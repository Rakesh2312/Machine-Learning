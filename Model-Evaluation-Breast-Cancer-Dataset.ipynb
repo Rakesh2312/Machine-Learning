{
 "cells": [
  {
   "cell_type": "markdown",
   "id": "3579e066",
   "metadata": {},
   "source": [
    "# Model Evaluation with K-Fold & Grid Search\n",
    "\n",
    "- Breast Cancer Dataset (in-built dataset)"
   ]
  },
  {
   "cell_type": "markdown",
   "id": "578b3841",
   "metadata": {},
   "source": [
    "### Step 1: Import necessary libraries"
   ]
  },
  {
   "cell_type": "code",
   "execution_count": 21,
   "id": "4b9b4598",
   "metadata": {},
   "outputs": [],
   "source": [
    "import numpy as np\n",
    "import pandas as pd\n",
    "from sklearn.datasets import load_breast_cancer\n",
    "from sklearn.model_selection import train_test_split, cross_val_score, GridSearchCV\n",
    "from sklearn.linear_model import LogisticRegression\n",
    "from sklearn.metrics import accuracy_score, precision_score, recall_score, f1_score, classification_report, confusion_matrix\n",
    "import warnings\n",
    "warnings.filterwarnings(\"ignore\")"
   ]
  },
  {
   "cell_type": "markdown",
   "id": "ef7adf98",
   "metadata": {},
   "source": [
    "### Step 2: Load the Breast Cancer dataset"
   ]
  },
  {
   "cell_type": "code",
   "execution_count": 22,
   "id": "a94cc754",
   "metadata": {},
   "outputs": [],
   "source": [
    "data = load_breast_cancer()\n",
    "X = pd.DataFrame(data.data, columns=data.feature_names)\n",
    "y = pd.Series(data.target)"
   ]
  },
  {
   "cell_type": "markdown",
   "id": "11e8d41a",
   "metadata": {},
   "source": [
    "### Step 3: Split the dataset into training and testing sets"
   ]
  },
  {
   "cell_type": "code",
   "execution_count": 23,
   "id": "5e12c74f",
   "metadata": {},
   "outputs": [],
   "source": [
    "X_train, X_test, y_train, y_test = train_test_split(X, y, test_size=0.2, random_state=42)"
   ]
  },
  {
   "cell_type": "markdown",
   "id": "2f9dc47a",
   "metadata": {},
   "source": [
    "### Step 4: Create a Logistic Regression classifier"
   ]
  },
  {
   "cell_type": "code",
   "execution_count": 24,
   "id": "69159097",
   "metadata": {},
   "outputs": [],
   "source": [
    "clf = LogisticRegression(random_state=42)"
   ]
  },
  {
   "cell_type": "markdown",
   "id": "ede7ef78",
   "metadata": {},
   "source": [
    "### Step 5: Perform K-Fold Cross-Validation (K=5) to evaluate the model\n"
   ]
  },
  {
   "cell_type": "code",
   "execution_count": 25,
   "id": "d73f936d",
   "metadata": {},
   "outputs": [],
   "source": [
    "cv_scores = cross_val_score(clf, X_train, y_train, cv=5, scoring='accuracy')"
   ]
  },
  {
   "cell_type": "markdown",
   "id": "e50cf9ab",
   "metadata": {},
   "source": [
    "### Step 6: Fit the model on the entire training set\n"
   ]
  },
  {
   "cell_type": "code",
   "execution_count": 26,
   "id": "a7691992",
   "metadata": {},
   "outputs": [
    {
     "data": {
      "text/plain": [
       "LogisticRegression(C=1.0, class_weight=None, dual=False, fit_intercept=True,\n",
       "                   intercept_scaling=1, l1_ratio=None, max_iter=100,\n",
       "                   multi_class='auto', n_jobs=None, penalty='l2',\n",
       "                   random_state=42, solver='lbfgs', tol=0.0001, verbose=0,\n",
       "                   warm_start=False)"
      ]
     },
     "execution_count": 26,
     "metadata": {},
     "output_type": "execute_result"
    }
   ],
   "source": [
    "clf.fit(X_train, y_train)"
   ]
  },
  {
   "cell_type": "markdown",
   "id": "051f5673",
   "metadata": {},
   "source": [
    "### Step 7: Make predictions on the test set"
   ]
  },
  {
   "cell_type": "code",
   "execution_count": 27,
   "id": "b0d2f311",
   "metadata": {},
   "outputs": [],
   "source": [
    "y_pred = clf.predict(X_test)"
   ]
  },
  {
   "cell_type": "markdown",
   "id": "efb467b2",
   "metadata": {},
   "source": [
    "### Step 8: Evaluate the model using classification metrics\n"
   ]
  },
  {
   "cell_type": "code",
   "execution_count": 28,
   "id": "2630c9aa",
   "metadata": {},
   "outputs": [],
   "source": [
    "accuracy = accuracy_score(y_test, y_pred)\n",
    "precision = precision_score(y_test, y_pred)\n",
    "recall = recall_score(y_test, y_pred)\n",
    "f1 = f1_score(y_test, y_pred)\n",
    "conf_matrix = confusion_matrix(y_test, y_pred)"
   ]
  },
  {
   "cell_type": "markdown",
   "id": "edd2f8ed",
   "metadata": {},
   "source": [
    "### Step 9: Print the K-Fold Cross-Validation results"
   ]
  },
  {
   "cell_type": "code",
   "execution_count": 29,
   "id": "436ba17b",
   "metadata": {},
   "outputs": [
    {
     "name": "stdout",
     "output_type": "stream",
     "text": [
      "K-Fold Cross-Validation Results:\n",
      "Fold 1: 0.97\n",
      "Fold 2: 0.90\n",
      "Fold 3: 0.97\n",
      "Fold 4: 0.96\n",
      "Fold 5: 0.90\n"
     ]
    }
   ],
   "source": [
    "print(\"K-Fold Cross-Validation Results:\")\n",
    "for i, score in enumerate(cv_scores, 1):\n",
    "    print(f\"Fold {i}: {score:.2f}\")"
   ]
  },
  {
   "cell_type": "markdown",
   "id": "f2f6166e",
   "metadata": {},
   "source": [
    "### Step 10: Print the evaluation metrics and classification report"
   ]
  },
  {
   "cell_type": "code",
   "execution_count": 30,
   "id": "bfa71529",
   "metadata": {},
   "outputs": [
    {
     "name": "stdout",
     "output_type": "stream",
     "text": [
      "\n",
      "Test Set Evaluation Metrics:\n",
      "Accuracy: 0.96\n",
      "Precision: 0.95\n",
      "Recall: 0.99\n",
      "F1 Score: 0.97\n",
      "\n",
      "Confusion Matrix:\n",
      "[[39  4]\n",
      " [ 1 70]]\n",
      "\n",
      "Classification Report:\n",
      "              precision    recall  f1-score   support\n",
      "\n",
      "           0       0.97      0.91      0.94        43\n",
      "           1       0.95      0.99      0.97        71\n",
      "\n",
      "    accuracy                           0.96       114\n",
      "   macro avg       0.96      0.95      0.95       114\n",
      "weighted avg       0.96      0.96      0.96       114\n",
      "\n"
     ]
    }
   ],
   "source": [
    "print(\"\\nTest Set Evaluation Metrics:\")\n",
    "print(f\"Accuracy: {accuracy:.2f}\")\n",
    "print(f\"Precision: {precision:.2f}\")\n",
    "print(f\"Recall: {recall:.2f}\")\n",
    "print(f\"F1 Score: {f1:.2f}\")\n",
    "print(\"\\nConfusion Matrix:\")\n",
    "print(conf_matrix)\n",
    "print(\"\\nClassification Report:\")\n",
    "print(classification_report(y_test, y_pred))"
   ]
  },
  {
   "cell_type": "markdown",
   "id": "44e1b3ba",
   "metadata": {},
   "source": [
    "### Step 11: Perform Grid Search for hyperparameter tuning"
   ]
  },
  {
   "cell_type": "code",
   "execution_count": 31,
   "id": "e0ca8887",
   "metadata": {},
   "outputs": [
    {
     "data": {
      "text/plain": [
       "GridSearchCV(cv=5, error_score=nan,\n",
       "             estimator=LogisticRegression(C=1.0, class_weight=None, dual=False,\n",
       "                                          fit_intercept=True,\n",
       "                                          intercept_scaling=1, l1_ratio=None,\n",
       "                                          max_iter=100, multi_class='auto',\n",
       "                                          n_jobs=None, penalty='l2',\n",
       "                                          random_state=42, solver='lbfgs',\n",
       "                                          tol=0.0001, verbose=0,\n",
       "                                          warm_start=False),\n",
       "             iid='deprecated', n_jobs=None,\n",
       "             param_grid={'C': [0.001, 0.01, 0.1, 1, 10, 100]},\n",
       "             pre_dispatch='2*n_jobs', refit=True, return_train_score=False,\n",
       "             scoring='accuracy', verbose=0)"
      ]
     },
     "execution_count": 31,
     "metadata": {},
     "output_type": "execute_result"
    }
   ],
   "source": [
    "param_grid = {'C': [0.001, 0.01, 0.1, 1, 10, 100]}\n",
    "grid_search = GridSearchCV(estimator=clf, param_grid=param_grid, cv=5, scoring='accuracy')\n",
    "grid_search.fit(X_train, y_train)"
   ]
  },
  {
   "cell_type": "markdown",
   "id": "6e44b567",
   "metadata": {},
   "source": [
    "### Step 12: Get the best hyperparameters"
   ]
  },
  {
   "cell_type": "code",
   "execution_count": 32,
   "id": "c9275e66",
   "metadata": {},
   "outputs": [],
   "source": [
    "best_params = grid_search.best_params_"
   ]
  },
  {
   "cell_type": "markdown",
   "id": "b1bc9c64",
   "metadata": {},
   "source": [
    "### Step 13: Train a Logistic Regression classifier with the best hyperparameters"
   ]
  },
  {
   "cell_type": "code",
   "execution_count": 33,
   "id": "fbdc120c",
   "metadata": {},
   "outputs": [
    {
     "data": {
      "text/plain": [
       "LogisticRegression(C=100, class_weight=None, dual=False, fit_intercept=True,\n",
       "                   intercept_scaling=1, l1_ratio=None, max_iter=100,\n",
       "                   multi_class='auto', n_jobs=None, penalty='l2',\n",
       "                   random_state=42, solver='lbfgs', tol=0.0001, verbose=0,\n",
       "                   warm_start=False)"
      ]
     },
     "execution_count": 33,
     "metadata": {},
     "output_type": "execute_result"
    }
   ],
   "source": [
    "best_clf = LogisticRegression(random_state=42, **best_params)\n",
    "best_clf.fit(X_train, y_train)"
   ]
  },
  {
   "cell_type": "markdown",
   "id": "0ed006f5",
   "metadata": {},
   "source": [
    "### Step 14: Make predictions with the tuned model"
   ]
  },
  {
   "cell_type": "code",
   "execution_count": 34,
   "id": "4ed5cb18",
   "metadata": {},
   "outputs": [],
   "source": [
    "y_pred_tuned = best_clf.predict(X_test)"
   ]
  },
  {
   "cell_type": "markdown",
   "id": "8382e398",
   "metadata": {},
   "source": [
    "### Step 15: Evaluate the tuned model"
   ]
  },
  {
   "cell_type": "code",
   "execution_count": 35,
   "id": "0f343bb6",
   "metadata": {},
   "outputs": [
    {
     "name": "stdout",
     "output_type": "stream",
     "text": [
      "\n",
      "Grid Search Results:\n",
      "Best Hyperparameters: {'C': 100}\n",
      "Test Set Accuracy with Tuned Model: 0.96\n"
     ]
    }
   ],
   "source": [
    "accuracy_tuned = accuracy_score(y_test, y_pred_tuned)\n",
    "print(\"\\nGrid Search Results:\")\n",
    "print(f\"Best Hyperparameters: {best_params}\")\n",
    "print(f\"Test Set Accuracy with Tuned Model: {accuracy_tuned:.2f}\")"
   ]
  },
  {
   "cell_type": "markdown",
   "id": "11bd98f8",
   "metadata": {},
   "source": [
    "### Compare result of k-fold & Grid Search"
   ]
  },
  {
   "cell_type": "code",
   "execution_count": 36,
   "id": "06ea7a40",
   "metadata": {},
   "outputs": [
    {
     "name": "stdout",
     "output_type": "stream",
     "text": [
      "K-Fold Cross-Validation Results:\n",
      "Mean Accuracy: 0.94\n",
      "Test Set Accuracy: 0.96\n",
      "\n",
      "Grid Search Results:\n",
      "Best Hyperparameters: {'C': 100}\n",
      "Test Set Accuracy with Tuned Model: 0.96\n"
     ]
    }
   ],
   "source": [
    "# Perform K-Fold Cross-Validation and store the accuracy scores\n",
    "cv_scores = cross_val_score(clf, X_train, y_train, cv=5, scoring='accuracy')\n",
    "\n",
    "# Calculate the accuracy of the tuned model\n",
    "accuracy_tuned = accuracy_score(y_test, y_pred_tuned)\n",
    "\n",
    "# Print and compare the results side by side\n",
    "print(\"K-Fold Cross-Validation Results:\")\n",
    "print(f\"Mean Accuracy: {np.mean(cv_scores):.2f}\")\n",
    "print(f\"Test Set Accuracy: {accuracy:.2f}\")\n",
    "\n",
    "print(\"\\nGrid Search Results:\")\n",
    "print(f\"Best Hyperparameters: {best_params}\")\n",
    "print(f\"Test Set Accuracy with Tuned Model: {accuracy_tuned:.2f}\")"
   ]
  }
 ],
 "metadata": {
  "kernelspec": {
   "display_name": "Python 3 (ipykernel)",
   "language": "python",
   "name": "python3"
  },
  "language_info": {
   "codemirror_mode": {
    "name": "ipython",
    "version": 3
   },
   "file_extension": ".py",
   "mimetype": "text/x-python",
   "name": "python",
   "nbconvert_exporter": "python",
   "pygments_lexer": "ipython3",
   "version": "3.7.6"
  }
 },
 "nbformat": 4,
 "nbformat_minor": 5
}
