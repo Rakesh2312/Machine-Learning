{
 "cells": [
  {
   "cell_type": "markdown",
   "id": "c05bb758",
   "metadata": {},
   "source": [
    "# Step 1: Import necessary libraries"
   ]
  },
  {
   "cell_type": "code",
   "execution_count": 31,
   "id": "4190f27c",
   "metadata": {},
   "outputs": [],
   "source": [
    "import pandas as pd\n",
    "import numpy as np\n",
    "import matplotlib.pyplot as plt\n",
    "from sklearn.model_selection import train_test_split\n",
    "from sklearn.linear_model import LinearRegression\n",
    "from sklearn.metrics import mean_squared_error, r2_score"
   ]
  },
  {
   "cell_type": "markdown",
   "id": "98e66809",
   "metadata": {},
   "source": [
    "# Step 2: Load the dataset"
   ]
  },
  {
   "cell_type": "code",
   "execution_count": 32,
   "id": "a221b143",
   "metadata": {},
   "outputs": [],
   "source": [
    "dataset = pd.read_csv(\"housing.csv\")"
   ]
  },
  {
   "cell_type": "markdown",
   "id": "f3da6b7c",
   "metadata": {},
   "source": [
    "# Step 3: Data Exploration and Preprocessing"
   ]
  },
  {
   "cell_type": "code",
   "execution_count": 33,
   "id": "d20b2655",
   "metadata": {},
   "outputs": [
    {
     "name": "stdout",
     "output_type": "stream",
     "text": [
      "      price  area  bedrooms  bathrooms  stories mainroad guestroom basement  \\\n",
      "0  13300000  7420         4          2        3      yes        no       no   \n",
      "1  12250000  8960         4          4        4      yes        no       no   \n",
      "2  12250000  9960         3          2        2      yes        no      yes   \n",
      "3  12215000  7500         4          2        2      yes        no      yes   \n",
      "4  11410000  7420         4          1        2      yes       yes      yes   \n",
      "\n",
      "  hotwaterheating airconditioning  parking prefarea furnishingstatus  \n",
      "0              no             yes        2      yes        furnished  \n",
      "1              no             yes        3       no        furnished  \n",
      "2              no              no        2      yes   semi-furnished  \n",
      "3              no             yes        3      yes        furnished  \n",
      "4              no             yes        2       no        furnished  \n"
     ]
    }
   ],
   "source": [
    "# Display the first few rows of the dataset\n",
    "print(dataset.head())"
   ]
  },
  {
   "cell_type": "code",
   "execution_count": 34,
   "id": "59b10a61",
   "metadata": {},
   "outputs": [
    {
     "name": "stdout",
     "output_type": "stream",
     "text": [
      "Missing Values:\n",
      "price               0\n",
      "area                0\n",
      "bedrooms            0\n",
      "bathrooms           0\n",
      "stories             0\n",
      "mainroad            0\n",
      "guestroom           0\n",
      "basement            0\n",
      "hotwaterheating     0\n",
      "airconditioning     0\n",
      "parking             0\n",
      "prefarea            0\n",
      "furnishingstatus    0\n",
      "dtype: int64\n"
     ]
    }
   ],
   "source": [
    "# Check for missing values\n",
    "missing_values = dataset.isnull().sum()\n",
    "print(\"Missing Values:\")\n",
    "print(missing_values)"
   ]
  },
  {
   "cell_type": "code",
   "execution_count": 35,
   "id": "0f4d2afd",
   "metadata": {},
   "outputs": [],
   "source": [
    "# Handle missing values (if necessary)\n",
    "# For example, to remove rows with missing values:\n",
    "dataset.dropna(inplace=True)"
   ]
  },
  {
   "cell_type": "code",
   "execution_count": 36,
   "id": "d510181c",
   "metadata": {},
   "outputs": [],
   "source": [
    "# Convert categorical variables to numeric using one-hot encoding\n",
    "dataset = pd.get_dummies(dataset, columns=['mainroad', 'guestroom', 'basement', 'hotwaterheating', \n",
    "                                           'airconditioning', 'prefarea', 'furnishingstatus'], drop_first=True)"
   ]
  },
  {
   "cell_type": "markdown",
   "id": "8915bcdd",
   "metadata": {},
   "source": [
    "# Step 4: Define the target and input features"
   ]
  },
  {
   "cell_type": "code",
   "execution_count": 37,
   "id": "8ea8abbd",
   "metadata": {},
   "outputs": [],
   "source": [
    "X = dataset[['area', 'bedrooms', 'bathrooms', 'stories', 'parking', 'mainroad_yes', 'guestroom_yes', \n",
    "             'basement_yes', 'hotwaterheating_yes', 'airconditioning_yes', 'prefarea_yes', \n",
    "             'furnishingstatus_semi-furnished', 'furnishingstatus_unfurnished']]\n",
    "y = dataset['price']"
   ]
  },
  {
   "cell_type": "markdown",
   "id": "0a6f89ce",
   "metadata": {},
   "source": [
    "# Step 5: Data Splitting"
   ]
  },
  {
   "cell_type": "code",
   "execution_count": 38,
   "id": "e7f3d543",
   "metadata": {},
   "outputs": [],
   "source": [
    "X_train, X_test, y_train, y_test = train_test_split(X, y, test_size=0.2, random_state=42)"
   ]
  },
  {
   "cell_type": "markdown",
   "id": "49661c91",
   "metadata": {},
   "source": [
    "# Step 6: Linear Regression Modeling"
   ]
  },
  {
   "cell_type": "code",
   "execution_count": 39,
   "id": "ec6b90fe",
   "metadata": {},
   "outputs": [
    {
     "data": {
      "text/plain": [
       "LinearRegression(copy_X=True, fit_intercept=True, n_jobs=None, normalize=False)"
      ]
     },
     "execution_count": 39,
     "metadata": {},
     "output_type": "execute_result"
    }
   ],
   "source": [
    "# Train the model\n",
    "model = LinearRegression()\n",
    "model.fit(X_train, y_train)"
   ]
  },
  {
   "cell_type": "markdown",
   "id": "8c940926",
   "metadata": {},
   "source": [
    "# Step 7: Model Evaluation"
   ]
  },
  {
   "cell_type": "code",
   "execution_count": 40,
   "id": "904d7046",
   "metadata": {},
   "outputs": [],
   "source": [
    "# Make predictions on the testing data\n",
    "y_pred = model.predict(X_test)"
   ]
  },
  {
   "cell_type": "code",
   "execution_count": 41,
   "id": "fe079777",
   "metadata": {},
   "outputs": [
    {
     "name": "stdout",
     "output_type": "stream",
     "text": [
      "Mean Squared Error: 1754318687330.66\n",
      "R-squared: 0.65\n"
     ]
    }
   ],
   "source": [
    "# Evaluate the model's performance\n",
    "mse = mean_squared_error(y_test, y_pred)\n",
    "r2 = r2_score(y_test, y_pred)\n",
    "\n",
    "print(f'Mean Squared Error: {mse:.2f}')\n",
    "print(f'R-squared: {r2:.2f}')"
   ]
  },
  {
   "cell_type": "markdown",
   "id": "3b1dd0b5",
   "metadata": {},
   "source": [
    "# Step 8: Visualization"
   ]
  },
  {
   "cell_type": "code",
   "execution_count": 42,
   "id": "798b7dce",
   "metadata": {},
   "outputs": [
    {
     "data": {
      "image/png": "[encoded data removed]",
      "text/plain": [
       "<Figure size 576x432 with 1 Axes>"
      ]
     },
     "metadata": {
      "needs_background": "light"
     },
     "output_type": "display_data"
    }
   ],
   "source": [
    "# Step 8: Visualization\n",
    "# Visualize the actual vs. predicted house prices using a scatterplot\n",
    "plt.figure(figsize=(8, 6))\n",
    "plt.scatter(y_test, y_pred, color='blue', alpha=0.7)\n",
    "plt.xlabel('Actual House Prices')\n",
    "plt.ylabel('Predicted House Prices')\n",
    "plt.title('Actual vs. Predicted House Prices')\n",
    "plt.grid(True)\n",
    "plt.show()"
   ]
  },
  {
   "cell_type": "markdown",
   "id": "eae42898",
   "metadata": {},
   "source": [
    "# Step 9: Interpretation"
   ]
  },
  {
   "cell_type": "code",
   "execution_count": 43,
   "id": "b7116e53",
   "metadata": {},
   "outputs": [
    {
     "name": "stdout",
     "output_type": "stream",
     "text": [
      "Coefficients (Slopes):\n",
      "area: 235.97\n",
      "bedrooms: 76778.70\n",
      "bathrooms: 1094444.79\n",
      "stories: 407476.59\n",
      "parking: 224841.91\n",
      "mainroad_yes: 367919.95\n",
      "guestroom_yes: 231610.04\n",
      "basement_yes: 390251.18\n",
      "hotwaterheating_yes: 684649.89\n",
      "airconditioning_yes: 791426.74\n",
      "prefarea_yes: 629890.57\n",
      "furnishingstatus_semi-furnished: -126881.82\n",
      "furnishingstatus_unfurnished: -413645.06\n",
      "Intercept: 260032.36\n"
     ]
    }
   ],
   "source": [
    "# Print the coefficients (slopes) for each feature to understand their impact on the house price\n",
    "coefficients = model.coef_\n",
    "intercept = model.intercept_\n",
    "\n",
    "print(\"Coefficients (Slopes):\")\n",
    "for feature, coef in zip(X.columns, coefficients):\n",
    "    print(f\"{feature}: {coef:.2f}\")\n",
    "\n",
    "print(f\"Intercept: {intercept:.2f}\")"
   ]
  }
 ],
 "metadata": {
  "kernelspec": {
   "display_name": "Python 3 (ipykernel)",
   "language": "python",
   "name": "python3"
  },
  "language_info": {
   "codemirror_mode": {
    "name": "ipython",
    "version": 3
   },
   "file_extension": ".py",
   "mimetype": "text/x-python",
   "name": "python",
   "nbconvert_exporter": "python",
   "pygments_lexer": "ipython3",
   "version": "3.7.6"
  }
 },
 "nbformat": 4,
 "nbformat_minor": 5
}
