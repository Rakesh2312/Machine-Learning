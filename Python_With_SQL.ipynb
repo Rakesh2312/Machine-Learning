{
 "cells": [
  {
   "cell_type": "code",
   "execution_count": 1,
   "metadata": {},
   "outputs": [
    {
     "name": "stdout",
     "output_type": "stream",
     "text": [
      "Collecting mysql-connector-python\n",
      "  Downloading mysql_connector_python-8.0.33-cp37-cp37m-win_amd64.whl (9.6 MB)\n",
      "Requirement already satisfied: protobuf<=3.20.3,>=3.11.0 in c:\\users\\eq0024au\\anaconda3\\lib\\site-packages (from mysql-connector-python) (3.19.6)\n",
      "Installing collected packages: mysql-connector-python\n",
      "Successfully installed mysql-connector-python-8.0.33\n",
      "Note: you may need to restart the kernel to use updated packages.\n"
     ]
    },
    {
     "name": "stderr",
     "output_type": "stream",
     "text": [
      "Keyring is skipped due to an exception: 'keyring.backends'\n"
     ]
    }
   ],
   "source": [
    "pip install mysql-connector-python"
   ]
  },
  {
   "cell_type": "code",
   "execution_count": 11,
   "metadata": {},
   "outputs": [
    {
     "name": "stdout",
     "output_type": "stream",
     "text": [
      "(1, 'Aarav Sharma', 'Mumbai')\n",
      "(2, 'Priya Singh', 'Delhi')\n",
      "(3, 'Ravi Kumar', 'Bangalore')\n",
      "(4, 'Neha Patel', 'Chennai')\n",
      "(5, 'Ishaan Rao', 'Hyderabad')\n",
      "(6, 'Aanya Gupta', 'Pune')\n",
      "(7, 'Vihaan Verma', 'Kolkata')\n",
      "(8, 'Saanvi Joshi', 'Jaipur')\n",
      "(9, 'Aditya Mehta', 'Lucknow')\n",
      "(10, 'Ishita Agarwal', 'Noida')\n",
      "(11, 'Arjun Reddy', 'Surat')\n",
      "(12, 'Ananya Nair', 'Kanpur')\n",
      "(13, 'Kartik Sharma', 'Ahmedabad')\n",
      "(14, 'Maya Sharma', 'Indore')\n",
      "(15, 'Rakesh Choudhary', 'Chandigarh')\n",
      "(16, 'Meet Sheladiya', 'Surat')\n"
     ]
    }
   ],
   "source": [
    "import mysql.connector\n",
    "\n",
    "# Define the connection parameters\n",
    "config = {\n",
    "    'user': 'root',\n",
    "    'password': '1234',\n",
    "    'host': 'localhost',\n",
    "    'database': 'learning'\n",
    "}\n",
    "\n",
    "# Create a connection\n",
    "connection = mysql.connector.connect(**config)\n",
    "\n",
    "# Create a cursor object using the connection\n",
    "cursor = connection.cursor()\n",
    "\n",
    "# Execute a query\n",
    "cursor.execute(\"SELECT * FROM students\")\n",
    "\n",
    "# Fetch the results\n",
    "results = cursor.fetchall()\n",
    "\n",
    "for row in results:\n",
    "    print(row)\n",
    "\n",
    "# Close the cursor and connection\n",
    "cursor.close()\n",
    "connection.close()"
   ]
  },
  {
   "cell_type": "code",
   "execution_count": 20,
   "metadata": {},
   "outputs": [
    {
     "name": "stdout",
     "output_type": "stream",
     "text": [
      "Error: 1062 (23000): Duplicate entry '16' for key 'students.PRIMARY'\n"
     ]
    }
   ],
   "source": [
    "import mysql.connector\n",
    "\n",
    "# Define the connection parameters\n",
    "config = {\n",
    "    'user': 'root',\n",
    "    'password': '1234',\n",
    "    'host': 'localhost',\n",
    "    'database': 'learning'\n",
    "}\n",
    "\n",
    "# Create a connection\n",
    "connection = mysql.connector.connect(**config)\n",
    "\n",
    "try:\n",
    "    cursor = connection.cursor()\n",
    "    \n",
    "    # Define an insert query\n",
    "    insert_query = \"\"\"\n",
    "    INSERT INTO Students (student_id, name, city)\n",
    "    VALUES (%s, %s, %s)\n",
    "    \"\"\"\n",
    "    \n",
    "    # Define the data to insert\n",
    "    data = (16, 'Meet Sheladiya', 'Surat')\n",
    "    \n",
    "    # Execute the query\n",
    "    cursor.execute(insert_query, data)\n",
    "    \n",
    "    # Commit the transaction\n",
    "    connection.commit()\n",
    "    \n",
    "    print(\"Data inserted successfully.\")\n",
    "except mysql.connector.Error as err:\n",
    "    print(f\"Error: {err}\")\n",
    "finally:\n",
    "    cursor.close()\n",
    "    connection.close()\n"
   ]
  },
  {
   "cell_type": "code",
   "execution_count": 8,
   "metadata": {},
   "outputs": [
    {
     "name": "stdout",
     "output_type": "stream",
     "text": [
      "Rows affected: 1\n"
     ]
    }
   ],
   "source": [
    "import mysql.connector\n",
    "\n",
    "# Define the connection parameters\n",
    "config = {\n",
    "    'user': 'root',\n",
    "    'password': '1234',\n",
    "    'host': 'localhost',\n",
    "    'database': 'learning'\n",
    "}\n",
    "\n",
    "# Create a connection\n",
    "connection = mysql.connector.connect(**config)\n",
    "\n",
    "try:\n",
    "    cursor = connection.cursor()\n",
    "    \n",
    "    # Define an update query\n",
    "    update_query = \"\"\"\n",
    "    UPDATE Students\n",
    "    SET name = %s\n",
    "    WHERE name = %s\n",
    "    \"\"\"\n",
    "    \n",
    "    # Define the data for updating\n",
    "    data = ('Rakesh Choudhary','Vivaan Yadav')\n",
    "    \n",
    "    # Execute the query\n",
    "    cursor.execute(update_query, data)\n",
    "    \n",
    "    # Commit the transaction\n",
    "    connection.commit()\n",
    "    \n",
    "    print(f\"Rows affected: {cursor.rowcount}\")\n",
    "except mysql.connector.Error as err:\n",
    "    print(f\"Error: {err}\")\n",
    "finally:\n",
    "    cursor.close()\n",
    "    connection.close()"
   ]
  },
  {
   "cell_type": "code",
   "execution_count": 21,
   "metadata": {},
   "outputs": [
    {
     "name": "stdout",
     "output_type": "stream",
     "text": [
      "Error: 1451 (23000): Cannot delete or update a parent row: a foreign key constraint fails (`learning`.`enrollments`, CONSTRAINT `enrollments_ibfk_1` FOREIGN KEY (`student_id`) REFERENCES `students` (`student_id`))\n"
     ]
    }
   ],
   "source": [
    "import mysql.connector\n",
    "\n",
    "# Define the connection parameters\n",
    "config = {\n",
    "    'user': 'root',\n",
    "    'password': '1234',\n",
    "    'host': 'localhost',\n",
    "    'database': 'learning'\n",
    "}\n",
    "\n",
    "# Create a connection\n",
    "connection = mysql.connector.connect(**config)\n",
    "\n",
    "try:\n",
    "    cursor = connection.cursor()\n",
    "    \n",
    "    # Define a delete query\n",
    "    delete_query = \"\"\"\n",
    "    DELETE FROM Students\n",
    "    WHERE name = %s\n",
    "    \"\"\"\n",
    "    \n",
    "    # Define the condition for deletion\n",
    "    data = ('Aarav Sharma',)\n",
    "    \n",
    "    # Execute the query\n",
    "    cursor.execute(delete_query, data)\n",
    "    \n",
    "    # Commit the transaction\n",
    "    connection.commit()\n",
    "    \n",
    "    print(f\"Rows deleted: {cursor.rowcount}\")\n",
    "except mysql.connector.Error as err:\n",
    "    print(f\"Error: {err}\")\n",
    "finally:\n",
    "    cursor.close()\n",
    "    connection.close()\n"
   ]
  }
 ],
 "metadata": {
  "kernelspec": {
   "display_name": "base",
   "language": "python",
   "name": "python3"
  },
  "language_info": {
   "codemirror_mode": {
    "name": "ipython",
    "version": 3
   },
   "file_extension": ".py",
   "mimetype": "text/x-python",
   "name": "python",
   "nbconvert_exporter": "python",
   "pygments_lexer": "ipython3",
   "version": "3.7.6"
  }
 },
 "nbformat": 4,
 "nbformat_minor": 2
}
